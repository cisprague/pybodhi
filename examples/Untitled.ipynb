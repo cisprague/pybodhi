{
 "cells": [
  {
   "cell_type": "code",
   "execution_count": 99,
   "metadata": {},
   "outputs": [
    {
     "name": "stdout",
     "output_type": "stream",
     "text": [
      "Using matplotlib backend: TkAgg\n"
     ]
    }
   ],
   "source": [
    "from noc_tree import Targeter\n",
    "import numpy as np\n",
    "import matplotlib.pyplot as plt, pandas as pd, seaborn as sb\n",
    "from matplotlib.colors import ListedColormap\n",
    "import matplotlib.ticker as ticker\n",
    "%matplotlib"
   ]
  },
  {
   "cell_type": "code",
   "execution_count": 100,
   "metadata": {},
   "outputs": [],
   "source": [
    "# waypoint sequence\n",
    "wps = np.array([\n",
    "    [100, 100, -10],\n",
    "    [100, -100, -5],\n",
    "    [-100, -100, -5]\n",
    "])"
   ]
  },
  {
   "cell_type": "code",
   "execution_count": 101,
   "metadata": {},
   "outputs": [],
   "source": [
    "# instantiate behaviour tree\n",
    "bt = Targeter(wps)"
   ]
  },
  {
   "cell_type": "code",
   "execution_count": 90,
   "metadata": {},
   "outputs": [],
   "source": [
    "# function names\n",
    "cols = list(bt.response.keys())\n",
    "\n",
    "# data frame\n",
    "data = pd.DataFrame(bt.responses)\n",
    "\n",
    "# remove consecutive duplicates\n",
    "data = data[cols].loc[(data[cols].shift() != data[cols]).any(axis=1)]\n",
    "\n",
    "# make time sequence horizontally\n",
    "data = data.T"
   ]
  },
  {
   "cell_type": "code",
   "execution_count": 91,
   "metadata": {},
   "outputs": [],
   "source": [
    "fig, ax = plt.subplots()\n",
    "im = ax.imshow(data.values)\n",
    "\n",
    "ax.set_xticks(np.arange(len(data.columns)))\n",
    "ax.set_yticks(np.arange(len(data.index)))\n",
    "#ax.set_xticklabels(list(data.columns))\n",
    "ax.set_yticklabels(list(data.index))\n",
    "\n",
    "fig.tight_layout()\n",
    "plt.show()"
   ]
  },
  {
   "cell_type": "code",
   "execution_count": 14,
   "metadata": {},
   "outputs": [],
   "source": [
    "fig = plt.figure()"
   ]
  },
  {
   "cell_type": "code",
   "execution_count": 15,
   "metadata": {},
   "outputs": [],
   "source": [
    "bt.plot()"
   ]
  },
  {
   "cell_type": "code",
   "execution_count": 97,
   "metadata": {},
   "outputs": [],
   "source": [
    "\n",
    "pos = np.array(bt.positions)\n",
    "fig, ax = plt.subplots(1)\n",
    "ax.plot(pos[:,0], pos[:,1])\n",
    "ax.set_aspect('equal')\n",
    "plt.show()"
   ]
  },
  {
   "cell_type": "code",
   "execution_count": 72,
   "metadata": {},
   "outputs": [
    {
     "data": {
      "text/plain": [
       "Index(['_no_leaks', '_shutdown_payload', '_mission_synchronised',\n",
       "       '_continue_command_received', '_path_obstacle_free', '_at_surface',\n",
       "       '_avoid_obstacles', '_compass_calibrated', '_able_to_descend',\n",
       "       '_update_commanded_waypoints', '_at_target_waypoint', '_depth_okay',\n",
       "       '_wait_for_continue', '_go_to_surface', '_calibrate_compass',\n",
       "       '_go_command_received', '_update_autonomy_waypoints',\n",
       "       '_set_mission_abort', '_go_to_target_waypoint', '_mission_complete',\n",
       "       '_prop_operational', '_mission_not_aborted', '_no_go_to_surface',\n",
       "       '_update_target_waypoint', '_payload_on', '_drop_weight',\n",
       "       '_adjust_depth', '_mission_done', '_at_target_depth', '_away_from_ship',\n",
       "       '_payload_off', '_no_commanded_waypoints', '_no_autonomy_waypoints',\n",
       "       '_actuator_operational', '_wait_for_go', '_turn_on_payload',\n",
       "       '_keep_distance'],\n",
       "      dtype='object')"
      ]
     },
     "execution_count": 72,
     "metadata": {},
     "output_type": "execute_result"
    }
   ],
   "source": [
    "data.index"
   ]
  },
  {
   "cell_type": "code",
   "execution_count": null,
   "metadata": {},
   "outputs": [],
   "source": []
  }
 ],
 "metadata": {
  "kernelspec": {
   "display_name": "Python 3",
   "language": "python",
   "name": "python3"
  },
  "language_info": {
   "codemirror_mode": {
    "name": "ipython",
    "version": 3
   },
   "file_extension": ".py",
   "mimetype": "text/x-python",
   "name": "python",
   "nbconvert_exporter": "python",
   "pygments_lexer": "ipython3",
   "version": "3.5.2"
  }
 },
 "nbformat": 4,
 "nbformat_minor": 2
}
