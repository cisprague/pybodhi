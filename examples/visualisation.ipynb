{
 "cells": [
  {
   "cell_type": "code",
   "execution_count": 1,
   "metadata": {},
   "outputs": [],
   "source": [
    "from ete3 import Tree, TreeStyle, NodeStyle, TextFace, RectFace, add_face_to_node\n",
    "from noc_tree import Targeter\n",
    "import numpy as np\n",
    "%matplotlib inline\n",
    "sep = 25"
   ]
  },
  {
   "cell_type": "code",
   "execution_count": 2,
   "metadata": {},
   "outputs": [],
   "source": [
    "# waypoint sequence\n",
    "wps = np.array([\n",
    "    [100, 100, -10],\n",
    "    [100, -100, -5],\n",
    "    [-100, -100, -5]\n",
    "])\n",
    "\n",
    "# instantiate the NOC mission tree, which inherits from pybodhi.Tree\n",
    "bt = Targeter(wps)"
   ]
  },
  {
   "cell_type": "code",
   "execution_count": 3,
   "metadata": {},
   "outputs": [
    {
     "data": {
      "text/plain": [
       "'(((( mission not aborted,  able to descend,  actuator operational,  prop operational,  no leaks,  depth okay)→, ( set mission abort,  drop weight,  go to surface)→)?, ( path obstacle free,  avoid obstacles)?, ( continue command received, (( away from ship,  keep distance)?, ( go command received,  wait for go)?, ( compass calibrated,  calibrate compass)?, ( payload on,  turn on payload)?, ( at target depth,  adjust depth)?, ( continue command received,  wait for continue)?)→)?, ( mission synchronised, (( no go to surface,  go to surface)?, ( no commanded waypoints,  update commanded waypoints)?, ( no autonomy waypoints,  update autonomy waypoints)?)→)?, ( mission complete, (( at target waypoint,  go to target waypoint)?,  update target waypoint)→)?, ( mission done, (( at surface,  go to surface)?, ( payload off,  shutdown payload)?)→)?)→)Ø;'"
      ]
     },
     "execution_count": 3,
     "metadata": {},
     "output_type": "execute_result"
    }
   ],
   "source": [
    "# Newick format https://en.wikipedia.org/wiki/Newick_format\n",
    "newick = bt.newick().replace(\"_\", \" \")\n",
    "newick"
   ]
  },
  {
   "cell_type": "code",
   "execution_count": 4,
   "metadata": {},
   "outputs": [],
   "source": [
    "t = Tree(newick, format=1)\n",
    "count = 0\n",
    "for node in t.iter_descendants(\"preorder\"):\n",
    "    r = 30\n",
    "    if count == 1:\n",
    "        tf = TextFace(\"Safety 1\", fsize=14)\n",
    "        tf.margin_left=2\n",
    "        tf.margin_right=r\n",
    "        tf.margin_bottom=2\n",
    "        tf.margin_top=2\n",
    "        tf.hz_align=1\n",
    "        tf.vt_align=1\n",
    "        node.add_face(tf, 0, \"float\")\n",
    "    elif count == 13:\n",
    "        tf = TextFace(\"Safety 2\", fsize=14)\n",
    "        tf.margin_left=2\n",
    "        tf.margin_right=r\n",
    "        tf.margin_bottom=2\n",
    "        tf.margin_top=2\n",
    "        tf.hz_align=1\n",
    "        tf.vt_align=1\n",
    "        node.add_face(tf, 0, \"float\")\n",
    "    elif count == 16:\n",
    "        tf = TextFace(\"System\\npreperation\", fsize=14)\n",
    "        tf.margin_left=2\n",
    "        tf.margin_right=r\n",
    "        tf.margin_bottom=2\n",
    "        tf.margin_top=2\n",
    "        tf.hz_align=1\n",
    "        tf.vt_align=1\n",
    "        node.add_face(tf, 0, \"float\")\n",
    "    elif count == 37:\n",
    "        tf = TextFace(\"Mission\\nsynchronisation\", fsize=14)\n",
    "        tf.margin_left=2\n",
    "        tf.margin_right=r\n",
    "        tf.margin_bottom=2\n",
    "        tf.margin_top=2\n",
    "        tf.hz_align=1\n",
    "        tf.vt_align=1\n",
    "        node.add_face(tf, 0, \"float\")\n",
    "    elif count == 49:\n",
    "        tf = TextFace(\"Mission\\nexecution\", fsize=14)\n",
    "        tf.margin_left=2\n",
    "        tf.margin_right=r\n",
    "        tf.margin_bottom=2\n",
    "        tf.margin_top=2\n",
    "        tf.hz_align=1\n",
    "        tf.vt_align=1\n",
    "        node.add_face(tf, 0, \"float\")\n",
    "    elif count == 56:\n",
    "        tf = TextFace(\"Mission\\nfinalisation\", fsize=14)\n",
    "        tf.margin_left=2\n",
    "        tf.margin_right=r\n",
    "        tf.margin_bottom=2\n",
    "        tf.margin_top=2\n",
    "        tf.hz_align=1\n",
    "        tf.vt_align=1\n",
    "        node.add_face(tf, 0, \"float\")\n",
    "    count += 1"
   ]
  },
  {
   "cell_type": "code",
   "execution_count": 5,
   "metadata": {},
   "outputs": [
    {
     "name": "stdout",
     "output_type": "stream",
     "text": [
      "PDFCROP 1.38, 2012/11/02 - Copyright (c) 2002-2012 by Heiko Oberdiek.\n",
      "==> 1 page written on `noc_tree_spec.pdf'.\n"
     ]
    }
   ],
   "source": [
    "# Vertical tree specific tree\n",
    "ts = TreeStyle()\n",
    "ts.show_leaf_name = False\n",
    "ts.mode = \"r\"\n",
    "ts.force_topology = True\n",
    "ts.optimal_scale_level = \"full\"\n",
    "ts.show_scale=False\n",
    "ts.rotation = 0\n",
    "ts.min_leaf_separation = sep\n",
    "ts.branch_vertical_margin = 10\n",
    "ts.scale = 15\n",
    "ts.extra_branch_line_type = 0\n",
    "ts.extra_branch_line_color = \"black\"\n",
    "\n",
    "\n",
    "def layout(node):\n",
    "    \n",
    "    # remove marker\n",
    "    node.set_style(NodeStyle(hz_line_width=2, vt_line_width=2))\n",
    "    node.img_style[\"size\"] = 0\n",
    "    # add indicator\n",
    "    F = TextFace(node.name, tight_text=False, fsize=12)\n",
    "    #F.rotation = -90 if node.name == \"?\" or node.name == \"→\" or node.name == \"Ø\" else 0\n",
    "    F.hz_align=1\n",
    "    F.vt_align=1\n",
    "    F.border.width = 1\n",
    "    F.margin_left=2\n",
    "    F.margin_right=2\n",
    "    F.margin_bottom=2\n",
    "    F.margin_top=2\n",
    "    F.rotable = False\n",
    "    node.add_face(F, 0, \"branch-right\")\n",
    "    \n",
    "ts.layout_fn = layout\n",
    "\n",
    "t.render(\"noc_tree_spec.pdf\",tree_style=ts)\n",
    "!pdfcrop noc_tree_spec.pdf noc_tree_spec.pdf\n",
    "#t.render(\"%%inline\", tree_style=ts)"
   ]
  },
  {
   "cell_type": "code",
   "execution_count": 6,
   "metadata": {},
   "outputs": [
    {
     "name": "stdout",
     "output_type": "stream",
     "text": [
      "\n",
      "         /-safe?\n",
      "      /?|\n",
      "     |   \\-safety action\n",
      "     |\n",
      "     |   /-continue command?\n",
      "     |-?|\n",
      "     |   \\-prepare system\n",
      "     |\n",
      "     |   /-mission synchronised?\n",
      "-Ø /→|-?|\n",
      "     |   \\-synchronise mission\n",
      "     |\n",
      "     |   /-mission complete?\n",
      "     |-?|\n",
      "     |   \\-execute mission\n",
      "     |\n",
      "     |   /-finalised?\n",
      "      \\?|\n",
      "         \\-finalise\n"
     ]
    }
   ],
   "source": [
    "newick2 = \"(((safe?, safety action)?,(continue command?, prepare system)?, (mission synchronised?, synchronise mission)?, (mission complete?, execute mission)?, (finalised?, finalise)?)→)Ø;\"\n",
    "t = Tree(newick2, format=1)\n",
    "print(t.get_ascii(show_internal=True))"
   ]
  },
  {
   "cell_type": "code",
   "execution_count": 7,
   "metadata": {},
   "outputs": [],
   "source": [
    "count = 0\n",
    "for node in t.iter_descendants(\"preorder\"):\n",
    "    if node.name == \"?\":\n",
    "        tf = TextFace([\"Safety\", \"System preparation\", \"Mission synchronisation\", \"Mission execution\", \"Mission finalisation\"][count], fsize=14)\n",
    "        tf.margin_left=2\n",
    "        tf.margin_right=88\n",
    "        tf.margin_bottom=2\n",
    "        tf.margin_top=2\n",
    "        node.add_face(tf, 0, \"float\")\n",
    "        count += 1"
   ]
  },
  {
   "cell_type": "code",
   "execution_count": 8,
   "metadata": {},
   "outputs": [
    {
     "name": "stdout",
     "output_type": "stream",
     "text": [
      "PDFCROP 1.38, 2012/11/02 - Copyright (c) 2002-2012 by Heiko Oberdiek.\n",
      "==> 1 page written on `noc_tree_gen.pdf'.\n"
     ]
    }
   ],
   "source": [
    "# Vertical tree specific tree\n",
    "ts = TreeStyle()\n",
    "ts.show_leaf_name = False\n",
    "ts.mode = \"r\"\n",
    "ts.force_topology = True\n",
    "ts.optimal_scale_level = \"full\"\n",
    "ts.show_scale=False\n",
    "ts.rotation = 0\n",
    "ts.min_leaf_separation = sep\n",
    "ts.branch_vertical_margin = 10\n",
    "ts.scale = 15\n",
    "ts.extra_branch_line_type = 0\n",
    "ts.extra_branch_line_color = \"black\"\n",
    "\n",
    "\n",
    "def layout(node):\n",
    "    # remove marker\n",
    "    node.set_style(NodeStyle(hz_line_width=2, vt_line_width=2))\n",
    "    node.img_style[\"size\"] = 0\n",
    "    # add indicator\n",
    "    F = TextFace(node.name, tight_text=False, fsize=12)\n",
    "    #F.rotation = -90 if node.name == \"?\" or node.name == \"→\" or node.name == \"Ø\" else 0\n",
    "    F.hz_align=1\n",
    "    F.vt_align=1\n",
    "    F.border.width = 1\n",
    "    F.margin_left=2\n",
    "    F.margin_right=2\n",
    "    F.margin_bottom=2\n",
    "    F.margin_top=2\n",
    "    F.rotable = False\n",
    "    node.add_face(F, 0, \"branch-right\")\n",
    "    \n",
    "ts.layout_fn = layout\n",
    "\n",
    "t.render(\"noc_tree_gen.pdf\",tree_style=ts)\n",
    "!pdfcrop noc_tree_gen.pdf noc_tree_gen.pdf\n",
    "#t.render(\"%%inline\", tree_style=ts)"
   ]
  },
  {
   "cell_type": "code",
   "execution_count": 9,
   "metadata": {},
   "outputs": [
    {
     "name": "stdout",
     "output_type": "stream",
     "text": [
      "\n",
      "   /-Action 1\n",
      "  |\n",
      "  |--Action 2\n",
      "-→|\n",
      "  |--...\n",
      "  |\n",
      "   \\-Action N\n"
     ]
    }
   ],
   "source": [
    "newick2 = \"(Action 1, Action 2, ..., Action N)→;\"\n",
    "t = Tree(newick2, format=1)\n",
    "print(t.get_ascii(show_internal=True))"
   ]
  },
  {
   "cell_type": "code",
   "execution_count": 10,
   "metadata": {},
   "outputs": [
    {
     "data": {
      "text/plain": [
       "{'faces': [[53.0, 79.0, 69.0, 98.0, 3, '...'],\n",
       "  [50.5, 76.5, 71.5, 100.5, 3, None],\n",
       "  [53.0, 9.0, 119.0, 28.0, 1, 'Action 1'],\n",
       "  [50.5, 6.5, 121.5, 30.5, 1, None],\n",
       "  [18.0, 61.5, 32.0, 80.5, 0, '→'],\n",
       "  [15.5, 59.0, 34.5, 83.0, 0, None],\n",
       "  [53.0, 114.0, 121.0, 133.0, 4, 'Action N'],\n",
       "  [50.5, 111.5, 123.5, 135.5, 4, None],\n",
       "  [53.0, 44.0, 119.0, 63.0, 2, 'Action 2'],\n",
       "  [50.5, 41.5, 121.5, 65.5, 2, None]],\n",
       " 'node_areas': {0: [1.0, 1.0, 123.0, 141.0],\n",
       "  1: [36.0, 1.0, 121.0, 36.0],\n",
       "  2: [36.0, 36.0, 121.0, 71.0],\n",
       "  3: [36.0, 71.0, 71.0, 106.0],\n",
       "  4: [36.0, 106.0, 123.0, 141.0]},\n",
       " 'nodes': []}"
      ]
     },
     "execution_count": 10,
     "metadata": {},
     "output_type": "execute_result"
    }
   ],
   "source": [
    "# Vertical tree specific tree\n",
    "ts = TreeStyle()\n",
    "ts.show_leaf_name = False\n",
    "ts.mode = \"r\"\n",
    "ts.force_topology = True\n",
    "ts.optimal_scale_level = \"full\"\n",
    "ts.show_scale=False\n",
    "ts.rotation = 0\n",
    "ts.min_leaf_separation = sep\n",
    "ts.branch_vertical_margin = 10\n",
    "ts.scale = 15\n",
    "ts.extra_branch_line_type = 0\n",
    "ts.extra_branch_line_color = \"black\"\n",
    "\n",
    "\n",
    "def layout(node):\n",
    "    # remove marker\n",
    "    node.set_style(NodeStyle(hz_line_width=2, vt_line_width=2))\n",
    "    node.img_style[\"size\"] = 0\n",
    "    # add indicator\n",
    "    F = TextFace(node.name, tight_text=False, fsize=12)\n",
    "    #F.rotation = -90 if node.name == \"?\" or node.name == \"→\" or node.name == \"Ø\" else 0\n",
    "    F.hz_align=1\n",
    "    F.vt_align=1\n",
    "    F.border.width = 1\n",
    "    F.margin_left=2\n",
    "    F.margin_right=2\n",
    "    F.margin_bottom=2\n",
    "    F.margin_top=2\n",
    "    F.rotable = False\n",
    "    node.add_face(F, 0, \"branch-right\")\n",
    "    \n",
    "ts.layout_fn = layout\n",
    "\n",
    "t.render(\"seq_tree.pdf\",tree_style=ts)\n",
    "#!pdfcrop seq_tree.pdf seq_tree.pdf\n",
    "#t.render(\"%%inline\", tree_style=ts)"
   ]
  },
  {
   "cell_type": "code",
   "execution_count": 11,
   "metadata": {},
   "outputs": [
    {
     "name": "stdout",
     "output_type": "stream",
     "text": [
      "\n",
      "   /-Action 1\n",
      "  |\n",
      "  |--Action 2\n",
      "-?|\n",
      "  |--...\n",
      "  |\n",
      "   \\-Action N\n"
     ]
    }
   ],
   "source": [
    "newick2 = \"(Action 1, Action 2, ..., Action N)?;\"\n",
    "t = Tree(newick2, format=1)\n",
    "print(t.get_ascii(show_internal=True))"
   ]
  },
  {
   "cell_type": "code",
   "execution_count": 12,
   "metadata": {},
   "outputs": [
    {
     "data": {
      "text/plain": [
       "{'faces': [[18.0, 61.5, 27.0, 80.5, 0, '?'],\n",
       "  [15.5, 59.0, 29.5, 83.0, 0, None],\n",
       "  [48.0, 9.0, 114.0, 28.0, 1, 'Action 1'],\n",
       "  [45.5, 6.5, 116.5, 30.5, 1, None],\n",
       "  [48.0, 44.0, 114.0, 63.0, 2, 'Action 2'],\n",
       "  [45.5, 41.5, 116.5, 65.5, 2, None],\n",
       "  [48.0, 79.0, 64.0, 98.0, 3, '...'],\n",
       "  [45.5, 76.5, 66.5, 100.5, 3, None],\n",
       "  [48.0, 114.0, 116.0, 133.0, 4, 'Action N'],\n",
       "  [45.5, 111.5, 118.5, 135.5, 4, None]],\n",
       " 'node_areas': {0: [1.0, 1.0, 118.0, 141.0],\n",
       "  1: [31.0, 1.0, 116.0, 36.0],\n",
       "  2: [31.0, 36.0, 116.0, 71.0],\n",
       "  3: [31.0, 71.0, 66.0, 106.0],\n",
       "  4: [31.0, 106.0, 118.0, 141.0]},\n",
       " 'nodes': []}"
      ]
     },
     "execution_count": 12,
     "metadata": {},
     "output_type": "execute_result"
    }
   ],
   "source": [
    "# Vertical tree specific tree\n",
    "ts = TreeStyle()\n",
    "ts.show_leaf_name = False\n",
    "ts.mode = \"r\"\n",
    "ts.force_topology = True\n",
    "ts.optimal_scale_level = \"full\"\n",
    "ts.show_scale=False\n",
    "ts.rotation = 0\n",
    "ts.min_leaf_separation = sep\n",
    "ts.branch_vertical_margin = 10\n",
    "ts.scale = 15\n",
    "ts.extra_branch_line_type = 0\n",
    "ts.extra_branch_line_color = \"black\"\n",
    "\n",
    "\n",
    "def layout(node):\n",
    "    # remove marker\n",
    "    node.set_style(NodeStyle(hz_line_width=2, vt_line_width=2))\n",
    "    node.img_style[\"size\"] = 0\n",
    "    # add indicator\n",
    "    F = TextFace(node.name, tight_text=False, fsize=12)\n",
    "    #F.rotation = -90 if node.name == \"?\" or node.name == \"→\" or node.name == \"Ø\" else 0\n",
    "    F.hz_align=1\n",
    "    F.vt_align=1\n",
    "    F.border.width = 1\n",
    "    F.margin_left=2\n",
    "    F.margin_right=2\n",
    "    F.margin_bottom=2\n",
    "    F.margin_top=2\n",
    "    F.rotable = False\n",
    "    node.add_face(F, 0, \"branch-right\")\n",
    "    \n",
    "ts.layout_fn = layout\n",
    "\n",
    "t.render(\"fb_tree.pdf\",tree_style=ts)\n",
    "#!pdfcrop fb_tree.pdf fb_tree.pdf\n",
    "#t.render(\"%%inline\", tree_style=ts)"
   ]
  },
  {
   "cell_type": "code",
   "execution_count": null,
   "metadata": {},
   "outputs": [],
   "source": []
  }
 ],
 "metadata": {
  "kernelspec": {
   "display_name": "Python 3",
   "language": "python",
   "name": "python3"
  },
  "language_info": {
   "codemirror_mode": {
    "name": "ipython",
    "version": 3
   },
   "file_extension": ".py",
   "mimetype": "text/x-python",
   "name": "python",
   "nbconvert_exporter": "python",
   "pygments_lexer": "ipython3",
   "version": "3.5.2"
  }
 },
 "nbformat": 4,
 "nbformat_minor": 2
}
